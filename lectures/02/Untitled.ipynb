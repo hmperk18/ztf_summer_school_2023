{
 "cells": [
  {
   "cell_type": "markdown",
   "id": "481e62e4-2ed4-4529-ba0f-b469afb54eca",
   "metadata": {},
   "source": [
    "# MMA\n",
    "\n",
    "## The messengers:\n",
    "\n",
    "Light: recieve info from photons because their differing wavelengths mean different things\n",
    "\n",
    "Neutrinos\n",
    "\n",
    "CR: high energy particles collide with atm and chain reactions and can derive direction\n",
    "\n",
    "Gravitational Waves: massive objects moving fast detected by LIGO laser interferometry"
   ]
  },
  {
   "cell_type": "markdown",
   "id": "3b0421ab-9812-4ac4-ab33-6b8e88f38b86",
   "metadata": {},
   "source": [
    "Gw170817 had joint detections! In optical - after 4 days it lost 4 magnitude - one of the fastest evolving transients recorded. As the neutron stars approach the GW frequency increases, until it spikes and then a few seconds later there is a $\\gamma$-ray burst\n",
    "\n",
    "## what can we learn?\n",
    "\n",
    "- origin of heavy elements\n",
    "- remnants\n",
    "- HE particles\n",
    "- GRB and multiwavelength emissions"
   ]
  },
  {
   "cell_type": "markdown",
   "id": "448c1c59-1b17-43df-ba50-672e928ad6ef",
   "metadata": {},
   "source": [
    "## How do we find them?\n",
    "\n",
    "GRBs - most energic explosions, found in 70s, have a binormal distribution (long and short - break at 2s duration)\n",
    "\n",
    "Sources: BNS, BHNS, BHWD, BHSH in He envelope, collapsar  - overall hyper-accreting BH or rapidly rotation NS\n",
    "\n",
    "Jet break: when the jet interacts/slows down and spreads out into a larger cone (the break is seen $\\theta_v = 0$ Jepelj 2011?\n",
    "\n",
    "lGRB: massive * with not lose gas easily, but star rotates and gas inspiral into disk\n",
    "\n",
    "sGRB: Ascenzi+ 2021 - r-process nucleosynthesis, lathanides creates, a red KN = high opacity, blue KN = low opacity\n",
    "\n",
    "For a observing angle $\\theta_v$:\n",
    "- $\\theta_v < \\theta_j$: GRB\n",
    "- $\\theta_v < 2\\theta_j$: afterglow\n",
    "- $\\theta_v > $: Kn - fast transient"
   ]
  },
  {
   "cell_type": "markdown",
   "id": "3bbe7301-ef3a-4ef0-bf1c-fed1b11b6f85",
   "metadata": {},
   "source": [
    "## Classificaitin\n",
    "\n",
    "lGRB - SNE/collapsar (tend to live in less massive)\n",
    "\n",
    "sGRB - Kne, compact merger + GW (tend to live in more massive)\n",
    "\n",
    "## Seaching\n",
    "\n",
    "looking for sGRB CP not easy to find in ZTF\n",
    "\n",
    "Gamma-ray Burst Monitor: wide FOV, all-sky satilite, sensitive to HE photons, can determine direction of the gamma rays, but with poor localization"
   ]
  },
  {
   "cell_type": "markdown",
   "id": "be64b170-ccad-4a17-9755-87806fe20af5",
   "metadata": {},
   "source": [
    "### Collapsar Gamma-ray things\n",
    "\n",
    "ZTF: Michael (2019) led a paper on using ZTF to scan a localization area for GRB180523B\n",
    "\n",
    "Process: check history, lightcurve, color/mag evolution, AGN in area, distance to host -> reduce to 0.04% of alerts\n",
    "\n",
    "- also compare compistion from spectra\n",
    "\n",
    "- led to the discovery of a GRB from collapsar (Ahumada+ 2021)\n",
    "\n",
    "    - Bayesian inference gets some estimates for the afterglow parameters (with `afterglowpy` and inference from Dietrich+2020) \n",
    "\n",
    "- good to check with X-ray Telescope (XRT), they may be a delay, but there is likely to be x-rays\n",
    "\n",
    "- SN hunt: found a residual with some previous archival imaging - led to the shortest collapsar, the jet just barely got thru the envelope"
   ]
  },
  {
   "cell_type": "markdown",
   "id": "e73746e6-2364-481e-9d2f-f135e3900e2f",
   "metadata": {},
   "source": [
    "## 03\n",
    "\n",
    "relevant papers: Coughlin, Ahumanada+ 2019, Anand+2020, Kasliwal, Anand, Ahumada+2020\n",
    "\n",
    "ZTF-ToO (small loc area - high exposure time) and Serendipitous (big GW area let ZTF work as normal across the sky)\n",
    "\n",
    "## 04\n",
    "\n",
    "GraceDB - GW alerts and EM follow up, GW wiki essentially!\n",
    "\n",
    "GCN Circulars - gcn.nasa.gov get alerts with info on localization, distance, false alarm rate (FAR), hasNS, hasRemnant\n",
    "\n",
    "Localization maps: BAYESTAR, LALInference/Bilby\n",
    "\n",
    "- look at the difference marginalizations of the localization\n",
    "\n",
    "ZTF - 16 CCD with 4 quadrants! huge area\n",
    "\n",
    "- priorize obseravations with probability: observability (proximity to sun/horizon) use gwemopt!"
   ]
  },
  {
   "cell_type": "code",
   "execution_count": null,
   "id": "bee02394-77e3-4e91-80f5-6fc6fe064a7f",
   "metadata": {},
   "outputs": [],
   "source": []
  }
 ],
 "metadata": {
  "kernelspec": {
   "display_name": "Python 3 (ipykernel)",
   "language": "python",
   "name": "python3"
  },
  "language_info": {
   "codemirror_mode": {
    "name": "ipython",
    "version": 3
   },
   "file_extension": ".py",
   "mimetype": "text/x-python",
   "name": "python",
   "nbconvert_exporter": "python",
   "pygments_lexer": "ipython3",
   "version": "3.9.7"
  }
 },
 "nbformat": 4,
 "nbformat_minor": 5
}
