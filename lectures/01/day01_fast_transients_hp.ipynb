{
 "cells": [
  {
   "cell_type": "markdown",
   "metadata": {},
   "source": [
    "# Fast Transient Searches\n",
    "\n",
    "Author: Igor Andreoni <br>\n",
    "Contact: andreoni@umd.edu <br>\n",
    "ZTF Summer School 2022"
   ]
  },
  {
   "cell_type": "markdown",
   "metadata": {},
   "source": [
    "### Objective\n",
    "The objective of this notebook is to learn how to mine a large dataset for (rare) extragalactic fast transient sources.\n",
    "\n",
    "### Introduction\n",
    "Wide-field surveys like the Zwicky Transient Facility (ZTF) image the entire observable sky almost every night multiple times. This makes ZTF as excellent instrument for time-domain astronomy. Image subtraction between a new \"science\" image and a deep \"reference\" (or \"template\") image makes every new source, or every source that changes in luminosity, stand out. When such a source is identified in a new image, an alert packet is issued, which is a dictionary rich with information, including differential photometry between the science and the template images.\n",
    "\n",
    "ZTF issues about 300,000 alerts every night. Searching for extragalactic fast transients constitutes a \"needle in the haystack\" big data challenge.\n",
    "\n",
    "### Method\n",
    "A data set (see below) is provided which is very similar to the stream of alerts that ZTF issues in one night. The amount of alerts is in the order of ~100k, which is a number large enough to make it unsustainable for a human to check each source individually on a daily basis. The objective of the notebook is to apply a number of well-motivated cuts to bring an overwhelming amount of information down to a manageable number of transients that astronomers can vet. The main steps will be:\n",
    "- read and understand the data\n",
    "- plot light curves\n",
    "- apply cuts progressively\n",
    "- when < 10 candidates are left, inspect them in detail\n",
    "\n",
    "\n",
    "### The data set\n",
    "Two data files were prepared for this school activity, both in JSON format. JSON files are, essentially, dictionaries.\n",
    "\n",
    "The alerts were all issued on the night of 2021-02-05 UT. The total number of alerts issued on that night approximated 1 million. If all the alerts were to be used, complete with all their entries, they total disk space for the 2021-02-05 night is larger than 16GB. To facilitate the download and handling of the data, alerts were selected that:\n",
    "- have at least 2 detections for the source (ndethist >= 2)\n",
    "- are likely real according to two real/bogus classifiers (drb > 0.8; braai > 0.8)\n",
    "- left a positive residual after image subtraction, i.e. the flux in the science image is larger than in the template image (warning: the source might have been fainter than the template in a past science image, generating a \"negative\" subtraction!)\n",
    "\n",
    "The data files are `data/fast_transient_alerts.json` for the alerts, `data/fast_transient_lc.json` for the light curves.\n",
    "\n",
    "- `data/fast_transient_alerts.json` Uniform JSON file (readable as a table using `pandas`) containing a selection of relevant information from the original alerts.\n",
    "- `data/fast_transient_lc.json` Light curves. The light curve of some transients have thousands of data points. To keep the data set manageable and our eyes on the scientific objective to discover fast transients, some the light curves were cut. In particular, **empty light curves** were assigned to those transients that:\n",
    "    - have at least one \"negative\" subtraction in the past (see above)\n",
    "    - are located at Galactic latitude `-8 deg < b < +8 deg` <br>\n",
    "In addition, only those data points within the last 30 days before the alert was issued are present in the light curves. Long-duration transients, variables, and repeatingly bursting sources are outside the scope of this activity. However, data points acquired after the last alert included in the `fast_transient_alerts.json` file will be present. \n",
    "    \n",
    "### Requirements\n",
    "* python 3\n",
    "* numpy, pandas, matplotlib, astropy, collections\n",
    "\n",
    "### Useful links\n",
    "[ZTF Avro schema for the alerts](https://zwickytransientfacility.github.io/ztf-avro-alert/schema.html)<br>\n",
    "[Public ZTF alerts](https://ztf.uw.edu/alerts/public/)<br>\n",
    "[Alert brokers for ZTF and Rubin Observatory](https://www.lsst.org/scientists/alert-brokers)"
   ]
  },
  {
   "cell_type": "markdown",
   "metadata": {},
   "source": [
    "## Import python packages"
   ]
  },
  {
   "cell_type": "code",
   "execution_count": 1,
   "metadata": {},
   "outputs": [],
   "source": [
    "import json\n",
    "\n",
    "import numpy as np\n",
    "import pandas as pd\n",
    "import matplotlib.pyplot as plt\n",
    "from collections import OrderedDict"
   ]
  },
  {
   "cell_type": "markdown",
   "metadata": {},
   "source": [
    "## Read and understand the data"
   ]
  },
  {
   "cell_type": "markdown",
   "metadata": {},
   "source": [
    "Read the data file. Beware that this action could take several minutes. The alerts JSON file is uniform and can be read as a `pandas` data frame."
   ]
  },
  {
   "cell_type": "code",
   "execution_count": 3,
   "metadata": {},
   "outputs": [],
   "source": [
    "# Open the file with the alerts\n",
    "alerts_filename = \"./data/fast_transient_alerts.json\"\n",
    "df_alerts = pd.read_json(alerts_filename)\n",
    "# To have one alert per row instead of column, use transpose()\n",
    "df_alerts = df_alerts.transpose()"
   ]
  },
  {
   "cell_type": "code",
   "execution_count": 4,
   "metadata": {},
   "outputs": [],
   "source": [
    "# Open the file with the light curves\n",
    "lc_filename = \"./data/fast_transient_lc.json\"\n",
    "  \n",
    "# Opening JSON file\n",
    "f = open(lc_filename)\n",
    "  \n",
    "# returns JSON object as a dictionary\n",
    "lc_dict = json.load(f)"
   ]
  },
  {
   "cell_type": "markdown",
   "metadata": {},
   "source": [
    "What do the data look like? It is a good idea to see what the data variables include, but we have to be careful about printing such a large amount of information all at once. Exploring the length of what we are going to print first is racommended."
   ]
  },
  {
   "cell_type": "markdown",
   "metadata": {},
   "source": [
    "Observing the first few key-value pairs for the light curve shows that each key is the name of a transient, and then it holds some observational data. The first non-empty value is:"
   ]
  },
  {
   "cell_type": "code",
   "execution_count": 32,
   "metadata": {},
   "outputs": [
    {
     "data": {
      "text/plain": [
       "[{'jd': 2459221.90113, 'magpsf': 19.781, 'sigmapsf': 0.105, 'filter': 'r'},\n",
       " {'jd': 2459223.95735, 'magpsf': 19.594, 'sigmapsf': 0.096, 'filter': 'r'},\n",
       " {'jd': 2459230.86845, 'magpsf': 19.676, 'sigmapsf': 0.224, 'filter': 'r'},\n",
       " {'jd': 2459230.86892, 'magpsf': 19.657, 'sigmapsf': 0.238, 'filter': 'r'},\n",
       " {'jd': 2459231.87228, 'magpsf': 19.693, 'sigmapsf': 0.079, 'filter': 'r'},\n",
       " {'jd': 2459231.89081, 'magpsf': 19.642, 'sigmapsf': 0.199, 'filter': 'r'},\n",
       " {'jd': 2459249.87436, 'magpsf': 19.659, 'sigmapsf': 0.146, 'filter': 'r'},\n",
       " {'jd': 2459250.83302, 'magpsf': 19.726, 'sigmapsf': 0.221, 'filter': 'r'},\n",
       " {'jd': 2459250.8335, 'magpsf': 19.678, 'sigmapsf': 0.157, 'filter': 'r'},\n",
       " {'jd': 2459251.82549, 'magpsf': 19.995, 'sigmapsf': 0.143, 'filter': 'r'},\n",
       " {'jd': 2459253.83769, 'magpsf': 19.93, 'sigmapsf': 0.106, 'filter': 'r'},\n",
       " {'jd': 2459263.88043, 'magpsf': 19.682, 'sigmapsf': 0.145, 'filter': 'r'},\n",
       " {'jd': 2459275.81691, 'magpsf': 19.997, 'sigmapsf': 0.184, 'filter': 'r'}]"
      ]
     },
     "execution_count": 32,
     "metadata": {},
     "output_type": "execute_result"
    }
   ],
   "source": [
    "lc_dict['ZTF17aaaoabk']"
   ]
  },
  {
   "cell_type": "code",
   "execution_count": 38,
   "metadata": {},
   "outputs": [],
   "source": [
    "# just the ones with data\n",
    "lc_dict_data = {k:v for k, v in lc_dict.items() if len(v) > 0}"
   ]
  },
  {
   "cell_type": "code",
   "execution_count": 40,
   "metadata": {},
   "outputs": [
    {
     "data": {
      "text/plain": [
       "20964"
      ]
     },
     "execution_count": 40,
     "metadata": {},
     "output_type": "execute_result"
    }
   ],
   "source": [
    "# How many alerts do we have?\n",
    "len(lc_dict.keys()) # this many named events\n",
    "len(lc_dict_data.keys()) # this many with observations"
   ]
  },
  {
   "cell_type": "code",
   "execution_count": 15,
   "metadata": {
    "scrolled": true
   },
   "outputs": [
    {
     "data": {
      "text/plain": [
       "Index(['jd', 'fid', 'isdiffpos', 'rcid', 'ra', 'dec', 'magpsf', 'sigmapsf',\n",
       "       'rb', 'ssdistnr', 'srmag1', 'sgscore1', 'distpsnr1', 'ndethist',\n",
       "       'jdstarthist', 'jdendhist', 'srmag2', 'sgscore2', 'distpsnr2', 'srmag3',\n",
       "       'sgscore3', 'distpsnr3', 'drb', 'objectId'],\n",
       "      dtype='object')"
      ]
     },
     "execution_count": 15,
     "metadata": {},
     "output_type": "execute_result"
    }
   ],
   "source": [
    "# What is the name of the alerts data frame columns?\n",
    "df_alerts.columns"
   ]
  },
  {
   "cell_type": "markdown",
   "metadata": {},
   "source": [
    "**STOP**. What do these column names mean? In order to use them in a smart way, check them out in the [ZTF Avro schema](https://zwickytransientfacility.github.io/ztf-avro-alert/schema.html)"
   ]
  },
  {
   "cell_type": "markdown",
   "metadata": {},
   "source": [
    "Important ones - `jd`: time of observation, "
   ]
  },
  {
   "cell_type": "code",
   "execution_count": 41,
   "metadata": {
    "scrolled": true
   },
   "outputs": [
    {
     "data": {
      "text/html": [
       "<div>\n",
       "<style scoped>\n",
       "    .dataframe tbody tr th:only-of-type {\n",
       "        vertical-align: middle;\n",
       "    }\n",
       "\n",
       "    .dataframe tbody tr th {\n",
       "        vertical-align: top;\n",
       "    }\n",
       "\n",
       "    .dataframe thead th {\n",
       "        text-align: right;\n",
       "    }\n",
       "</style>\n",
       "<table border=\"1\" class=\"dataframe\">\n",
       "  <thead>\n",
       "    <tr style=\"text-align: right;\">\n",
       "      <th></th>\n",
       "      <th>jd</th>\n",
       "      <th>fid</th>\n",
       "      <th>isdiffpos</th>\n",
       "      <th>rcid</th>\n",
       "      <th>ra</th>\n",
       "      <th>dec</th>\n",
       "      <th>magpsf</th>\n",
       "      <th>sigmapsf</th>\n",
       "      <th>rb</th>\n",
       "      <th>ssdistnr</th>\n",
       "      <th>...</th>\n",
       "      <th>jdstarthist</th>\n",
       "      <th>jdendhist</th>\n",
       "      <th>srmag2</th>\n",
       "      <th>sgscore2</th>\n",
       "      <th>distpsnr2</th>\n",
       "      <th>srmag3</th>\n",
       "      <th>sgscore3</th>\n",
       "      <th>distpsnr3</th>\n",
       "      <th>drb</th>\n",
       "      <th>objectId</th>\n",
       "    </tr>\n",
       "  </thead>\n",
       "  <tbody>\n",
       "    <tr>\n",
       "      <th>601cb75947230767c903ce48</th>\n",
       "      <td>2459250.626065</td>\n",
       "      <td>1</td>\n",
       "      <td>t</td>\n",
       "      <td>45</td>\n",
       "      <td>41.706031</td>\n",
       "      <td>-22.509571</td>\n",
       "      <td>15.914849</td>\n",
       "      <td>0.052548</td>\n",
       "      <td>0.512857</td>\n",
       "      <td>-999.0</td>\n",
       "      <td>...</td>\n",
       "      <td>2458383.932454</td>\n",
       "      <td>2459250.626065</td>\n",
       "      <td>18.7122</td>\n",
       "      <td>1.0</td>\n",
       "      <td>11.778825</td>\n",
       "      <td>-999.0</td>\n",
       "      <td>0.5</td>\n",
       "      <td>15.36731</td>\n",
       "      <td>0.975172</td>\n",
       "      <td>ZTF18abyitqr</td>\n",
       "    </tr>\n",
       "    <tr>\n",
       "      <th>601cb758040c9a45b915243b</th>\n",
       "      <td>2459250.626065</td>\n",
       "      <td>1</td>\n",
       "      <td>t</td>\n",
       "      <td>52</td>\n",
       "      <td>46.59873</td>\n",
       "      <td>-20.729952</td>\n",
       "      <td>19.315357</td>\n",
       "      <td>0.187526</td>\n",
       "      <td>0.528571</td>\n",
       "      <td>-999.0</td>\n",
       "      <td>...</td>\n",
       "      <td>2458860.605127</td>\n",
       "      <td>2459250.626065</td>\n",
       "      <td>21.7882</td>\n",
       "      <td>0.906845</td>\n",
       "      <td>5.796002</td>\n",
       "      <td>21.646299</td>\n",
       "      <td>0.923917</td>\n",
       "      <td>13.633864</td>\n",
       "      <td>0.999086</td>\n",
       "      <td>ZTF20aafuwfv</td>\n",
       "    </tr>\n",
       "    <tr>\n",
       "      <th>601cb761da8192014092f81a</th>\n",
       "      <td>2459250.626065</td>\n",
       "      <td>1</td>\n",
       "      <td>t</td>\n",
       "      <td>4</td>\n",
       "      <td>46.82753</td>\n",
       "      <td>-27.066677</td>\n",
       "      <td>19.544296</td>\n",
       "      <td>0.215844</td>\n",
       "      <td>0.545714</td>\n",
       "      <td>-999.0</td>\n",
       "      <td>...</td>\n",
       "      <td>2459117.897257</td>\n",
       "      <td>2459250.626065</td>\n",
       "      <td>20.7647</td>\n",
       "      <td>0.005</td>\n",
       "      <td>23.80216</td>\n",
       "      <td>-999.0</td>\n",
       "      <td>-999.0</td>\n",
       "      <td>-999.0</td>\n",
       "      <td>0.988304</td>\n",
       "      <td>ZTF20acekgfz</td>\n",
       "    </tr>\n",
       "  </tbody>\n",
       "</table>\n",
       "<p>3 rows × 24 columns</p>\n",
       "</div>"
      ],
      "text/plain": [
       "                                      jd fid isdiffpos rcid         ra  \\\n",
       "601cb75947230767c903ce48  2459250.626065   1         t   45  41.706031   \n",
       "601cb758040c9a45b915243b  2459250.626065   1         t   52   46.59873   \n",
       "601cb761da8192014092f81a  2459250.626065   1         t    4   46.82753   \n",
       "\n",
       "                                dec     magpsf  sigmapsf        rb ssdistnr  \\\n",
       "601cb75947230767c903ce48 -22.509571  15.914849  0.052548  0.512857   -999.0   \n",
       "601cb758040c9a45b915243b -20.729952  19.315357  0.187526  0.528571   -999.0   \n",
       "601cb761da8192014092f81a -27.066677  19.544296  0.215844  0.545714   -999.0   \n",
       "\n",
       "                          ...     jdstarthist       jdendhist   srmag2  \\\n",
       "601cb75947230767c903ce48  ...  2458383.932454  2459250.626065  18.7122   \n",
       "601cb758040c9a45b915243b  ...  2458860.605127  2459250.626065  21.7882   \n",
       "601cb761da8192014092f81a  ...  2459117.897257  2459250.626065  20.7647   \n",
       "\n",
       "                          sgscore2  distpsnr2     srmag3  sgscore3  distpsnr3  \\\n",
       "601cb75947230767c903ce48       1.0  11.778825     -999.0       0.5   15.36731   \n",
       "601cb758040c9a45b915243b  0.906845   5.796002  21.646299  0.923917  13.633864   \n",
       "601cb761da8192014092f81a     0.005   23.80216     -999.0    -999.0     -999.0   \n",
       "\n",
       "                               drb      objectId  \n",
       "601cb75947230767c903ce48  0.975172  ZTF18abyitqr  \n",
       "601cb758040c9a45b915243b  0.999086  ZTF20aafuwfv  \n",
       "601cb761da8192014092f81a  0.988304  ZTF20acekgfz  \n",
       "\n",
       "[3 rows x 24 columns]"
      ]
     },
     "execution_count": 41,
     "metadata": {},
     "output_type": "execute_result"
    }
   ],
   "source": [
    "#What do alerts look like, in this short version?\n",
    "df_alerts[0:3]"
   ]
  },
  {
   "cell_type": "markdown",
   "metadata": {},
   "source": [
    "Let's warm up with selection criteria for the alerts. For example, we can check if any one of the alerts has exactly 20 detections in its history, it is at least 5 arcsec away from the closest PS1 catalog source, and the closest PS1 cataloged source is likely a galaxy. Remember that the star/galaxy classification goes from 0 (likely galaxy) to 1 (likely star)."
   ]
  },
  {
   "cell_type": "code",
   "execution_count": 42,
   "metadata": {
    "scrolled": true
   },
   "outputs": [
    {
     "data": {
      "text/plain": [
       "601cfaac6fbae9e71c9bcabe    ZTF21aagnvvk\n",
       "601d038d6fbae9e71c9bd805    ZTF21aagmryd\n",
       "Name: objectId, dtype: object"
      ]
     },
     "execution_count": 42,
     "metadata": {},
     "output_type": "execute_result"
    }
   ],
   "source": [
    "crit_test = (df_alerts['ndethist'] == 20) & (df_alerts['distpsnr1'] > 5) & (df_alerts['sgscore1'] < 0.5)\n",
    "df_alerts[crit_test][\"objectId\"]"
   ]
  },
  {
   "cell_type": "markdown",
   "metadata": {},
   "source": [
    "Let's display a light curve. For example, the dataset includes ZTF21aagnvvk, which is a Type Ia supernova that was assigned IAU name [AT2021bnf](https://www.wis-tns.org/object/2021bnf). You should have found this transient using the selection criteria in the cell above.\n",
    "\n",
    "To make things easier, the filter id (`fid`) column was replaced with the `filter` name (g, r, or i) column. Note that upper limits from non-detections are not included in this data set, so you will find only information about detections, even if knowing the last non-detection time of a transient can be crucial to constrain its onset."
   ]
  },
  {
   "cell_type": "code",
   "execution_count": 43,
   "metadata": {
    "scrolled": true
   },
   "outputs": [
    {
     "data": {
      "text/plain": [
       "[{'jd': 2459232.78481, 'magpsf': 20.856, 'sigmapsf': 0.371, 'filter': 'g'},\n",
       " {'jd': 2459232.88103, 'magpsf': 20.705, 'sigmapsf': 0.269, 'filter': 'g'},\n",
       " {'jd': 2459232.92484, 'magpsf': 20.591, 'sigmapsf': 0.286, 'filter': 'g'},\n",
       " {'jd': 2459233.77119, 'magpsf': 20.487, 'sigmapsf': 0.273, 'filter': 'r'},\n",
       " {'jd': 2459248.75645, 'magpsf': 19.06, 'sigmapsf': 0.11, 'filter': 'g'},\n",
       " {'jd': 2459248.76622, 'magpsf': 19.032, 'sigmapsf': 0.09, 'filter': 'g'},\n",
       " {'jd': 2459248.75551, 'magpsf': 19.082, 'sigmapsf': 0.104, 'filter': 'g'},\n",
       " {'jd': 2459248.86705, 'magpsf': 18.948, 'sigmapsf': 0.104, 'filter': 'r'},\n",
       " {'jd': 2459248.88325, 'magpsf': 18.924, 'sigmapsf': 0.094, 'filter': 'r'},\n",
       " {'jd': 2459248.90036, 'magpsf': 19.016, 'sigmapsf': 0.113, 'filter': 'g'},\n",
       " {'jd': 2459248.88231, 'magpsf': 19.025, 'sigmapsf': 0.094, 'filter': 'r'},\n",
       " {'jd': 2459248.93757, 'magpsf': 19.023, 'sigmapsf': 0.11, 'filter': 'r'},\n",
       " {'jd': 2459249.79897, 'magpsf': 19.158, 'sigmapsf': 0.28, 'filter': 'r'},\n",
       " {'jd': 2459249.88734, 'magpsf': 18.997, 'sigmapsf': 0.157, 'filter': 'r'},\n",
       " {'jd': 2459250.7448, 'magpsf': 19.049, 'sigmapsf': 0.157, 'filter': 'r'},\n",
       " {'jd': 2459249.83978, 'magpsf': 19.016, 'sigmapsf': 0.151, 'filter': 'r'},\n",
       " {'jd': 2459250.77574, 'magpsf': 19.082, 'sigmapsf': 0.121, 'filter': 'g'},\n",
       " {'jd': 2459250.79469, 'magpsf': 19.041, 'sigmapsf': 0.125, 'filter': 'g'},\n",
       " {'jd': 2459250.82382, 'magpsf': 19.083, 'sigmapsf': 0.116, 'filter': 'g'},\n",
       " {'jd': 2459250.85462, 'magpsf': 18.978, 'sigmapsf': 0.124, 'filter': 'r'},\n",
       " {'jd': 2459250.79564, 'magpsf': 19.11, 'sigmapsf': 0.117, 'filter': 'g'},\n",
       " {'jd': 2459250.90696, 'magpsf': 19.059, 'sigmapsf': 0.147, 'filter': 'r'},\n",
       " {'jd': 2459250.90743, 'magpsf': 19.041, 'sigmapsf': 0.127, 'filter': 'r'},\n",
       " {'jd': 2459251.77016, 'magpsf': 19.155, 'sigmapsf': 0.108, 'filter': 'g'},\n",
       " {'jd': 2459251.81271, 'magpsf': 19.065, 'sigmapsf': 0.105, 'filter': 'r'},\n",
       " {'jd': 2459251.81841, 'magpsf': 19.032, 'sigmapsf': 0.102, 'filter': 'r'},\n",
       " {'jd': 2459252.71361, 'magpsf': 18.996, 'sigmapsf': 0.137, 'filter': 'r'},\n",
       " {'jd': 2459251.82029, 'magpsf': 19.047, 'sigmapsf': 0.107, 'filter': 'r'},\n",
       " {'jd': 2459251.8678, 'magpsf': 19.164, 'sigmapsf': 0.109, 'filter': 'g'},\n",
       " {'jd': 2459252.78422, 'magpsf': 19.143, 'sigmapsf': 0.102, 'filter': 'g'},\n",
       " {'jd': 2459252.78564, 'magpsf': 19.25, 'sigmapsf': 0.123, 'filter': 'g'},\n",
       " {'jd': 2459252.81398, 'magpsf': 19.066, 'sigmapsf': 0.119, 'filter': 'r'},\n",
       " {'jd': 2459252.87178, 'magpsf': 18.984, 'sigmapsf': 0.1, 'filter': 'r'},\n",
       " {'jd': 2459254.77025, 'magpsf': 19.1, 'sigmapsf': 0.1, 'filter': 'r'},\n",
       " {'jd': 2459254.77646, 'magpsf': 19.265, 'sigmapsf': 0.095, 'filter': 'g'},\n",
       " {'jd': 2459256.73625, 'magpsf': 19.095, 'sigmapsf': 0.095, 'filter': 'r'},\n",
       " {'jd': 2459256.79487, 'magpsf': 19.33, 'sigmapsf': 0.105, 'filter': 'g'},\n",
       " {'jd': 2459260.7558, 'magpsf': 19.245, 'sigmapsf': 0.192, 'filter': 'r'},\n",
       " {'jd': 2459260.80374, 'magpsf': 19.601, 'sigmapsf': 0.159, 'filter': 'g'}]"
      ]
     },
     "execution_count": 43,
     "metadata": {},
     "output_type": "execute_result"
    }
   ],
   "source": [
    "lc_dict[\"ZTF21aagnvvk\"]"
   ]
  },
  {
   "cell_type": "markdown",
   "metadata": {},
   "source": [
    "## Plot a light curve\n",
    "Define a function to plot the light curve of a given transient"
   ]
  },
  {
   "cell_type": "code",
   "execution_count": 47,
   "metadata": {},
   "outputs": [],
   "source": [
    "def plot_lc(name):\n",
    "    \"\"\"\n",
    "    Plot a light curve given a ZTF transient name.\n",
    "    Assume lc_dict to be a global variable already defined.\n",
    "\n",
    "    Parameters\n",
    "    ----------\n",
    "    name str\n",
    "        name (objectId) of the ZTF transient\n",
    "    \"\"\"\n",
    "    # Get the lc of interest\n",
    "    lc = lc_dict[name]\n",
    "    # What are the filters in which it was observed\n",
    "    filters = [x[\"filter\"] for x in lc]\n",
    "    \n",
    "    # Initialize the figure\n",
    "    fig, ax = plt.subplots()\n",
    "    \n",
    "    # Plot the light curve in each filter\n",
    "    for f in set(filters):\n",
    "        time = [x[\"jd\"] for x in lc if x['filter'] == f]\n",
    "        mag = [x[\"magpsf\"] for x in lc if x['filter'] == f]\n",
    "        magerr = [x[\"sigmapsf\"] for x in lc if x['filter'] == f]\n",
    "        ax.errorbar(time, mag, yerr=magerr, marker=\"o\", label=f)\n",
    "    # Legend without repeatitions\n",
    "    handles, labels = plt.gca().get_legend_handles_labels()\n",
    "    by_label = OrderedDict(zip(labels, handles))\n",
    "    ax.legend(by_label.values(), by_label.keys())\n",
    "    # Axes name\n",
    "    ax.set_xlabel(\"time (days)\")\n",
    "    ax.set_ylabel(\"Magnitude\")\n",
    "    \n",
    "    # Note: smaller magnitude means larger luminosity!\n",
    "    ax.set_ylim(ax.get_ylim()[::-1])"
   ]
  },
  {
   "cell_type": "code",
   "execution_count": 48,
   "metadata": {
    "scrolled": true
   },
   "outputs": [
    {
     "data": {
      "image/png": "[encoded data removed]",
      "text/plain": [
       "<Figure size 640x480 with 1 Axes>"
      ]
     },
     "metadata": {},
     "output_type": "display_data"
    }
   ],
   "source": [
    "# Try out the new function ZTF21aagnvvk\n",
    "plot_lc(\"ZTF21aagnvvk\")"
   ]
  },
  {
   "cell_type": "markdown",
   "metadata": {},
   "source": [
    "Bonus quiz: Now try out the plotting function on ZTF21aagmryd. Can you guess which type of supernova this is ONLY based on the light curve?\n",
    "\n",
    "**Type II?**"
   ]
  },
  {
   "cell_type": "code",
   "execution_count": 49,
   "metadata": {},
   "outputs": [
    {
     "data": {
      "image/png": "[encoded data removed]",
      "text/plain": [
       "<Figure size 640x480 with 1 Axes>"
      ]
     },
     "metadata": {},
     "output_type": "display_data"
    }
   ],
   "source": [
    "plot_lc(\"ZTF21aagmryd\")"
   ]
  },
  {
   "cell_type": "code",
   "execution_count": null,
   "metadata": {},
   "outputs": [],
   "source": []
  },
  {
   "cell_type": "markdown",
   "metadata": {},
   "source": [
    "# Fast transient quest\n",
    "\n",
    "Now the real search for fast transients begins!"
   ]
  },
  {
   "cell_type": "markdown",
   "metadata": {},
   "source": [
    "## Moving objects\n",
    "\n",
    "<img src=\"Figures/figure_asteroid.jpg\" alt=\"drawing\" width=\"500\"/>\n",
    "\n",
    "Objects that move in the sky significantly in little time are likely asteroids or other types of natural (or artificial) near-Earth objects. Those must be removed from the sample. \n",
    "\n",
    "The ZTF alerts include valuable information such as the distance to the nearest catalogued solar system objects (`ssdistnr`). How many alerts fall within 10 arcsec from a catalog solar system object? Note: if no match is found, `ssdistnr == -999`"
   ]
  },
  {
   "cell_type": "code",
   "execution_count": null,
   "metadata": {},
   "outputs": [],
   "source": [
    "crit_moving = (df_alerts[\"ssdistnr\"] < ...) & (df_alerts[\"ssdistnr\"] > 0)\n",
    "len(df_alerts[crit_moving])"
   ]
  },
  {
   "cell_type": "code",
   "execution_count": null,
   "metadata": {},
   "outputs": [],
   "source": [
    "# Now define a criterion to EXCLUDE those moving objects\n",
    "crit_nomoving = ~crit_moving"
   ]
  },
  {
   "cell_type": "markdown",
   "metadata": {},
   "source": [
    "This is good, but probably not enough to exclude all the moving objects. Some may be uncataloged, and others might not be precisely localized. Another effective way to remove moving objects is to set a minimum time gap between the first and the last detection of a transient. Usually, asteroids move > 1 arcsec every 15 minutes. Our target transients (kilonovae, GRB afterglows) evolve in minutes to days time scales, so we can afford to set a minimum time gap of 30 minutes, for extra safety.\n",
    "\n",
    "To build this criterion, we can use the `jd` and the `jdstarthist` keys present in every alert. "
   ]
  },
  {
   "cell_type": "code",
   "execution_count": null,
   "metadata": {},
   "outputs": [],
   "source": [
    "crit_mingap = (df_alerts[\"jd\"] - ... > ...)\n",
    "len(df_alerts[crit_mingap])"
   ]
  },
  {
   "cell_type": "markdown",
   "metadata": {},
   "source": [
    "Putting the no-moving criteria together, what fraction of alerts remains?"
   ]
  },
  {
   "cell_type": "code",
   "execution_count": null,
   "metadata": {},
   "outputs": [],
   "source": [
    "len(df_alerts[crit_nomoving & crit_mingap])/..."
   ]
  },
  {
   "cell_type": "markdown",
   "metadata": {},
   "source": [
    "## Stellarity\n",
    "“Dwell on the beauty of life. Watch the stars, and see yourself running with them.” <br>\n",
    "― Marcus Aurelius, Meditations\n",
    "\n",
    "“Dwell on the beauty of life. Watch the stars, and see yourself running away from them.” <br>\n",
    "― Extragalactic Astronomers\n",
    "\n",
    "<img src=\"Figures/figure_stellarity.png\" alt=\"drawing\" width=\"400\"/>"
   ]
  },
  {
   "cell_type": "markdown",
   "metadata": {},
   "source": [
    "The star/galaxy classifier can help us remove stellar sources from the sample. As mentioned before, the star/galaxy classification goes from 0 (likely galaxy) to 1 (likely star). We can wonder: \n",
    "- is the location of the transient coincident with the location of a catalogued source?\n",
    "- is the closest source likely a star or a galaxy?\n",
    "\n",
    "A combination of `sgscore1` and `distpsnr1` will answer both questions. Remember that the PSF of the ZTF camera has FWHM ~ 1 arcsec and the seeing at Palomar Observatory is often 1.0-1.5 arcsec."
   ]
  },
  {
   "cell_type": "code",
   "execution_count": null,
   "metadata": {},
   "outputs": [],
   "source": [
    "crit_stellar = (df_alerts[\"sgscore1\"] > 0.5) & (df_alerts[\"distpsnr1\"] < ...) & (df_alerts[\"distpsnr1\"] >= 0)\n",
    "crit_nostellar = ~crit_stellar\n"
   ]
  },
  {
   "cell_type": "markdown",
   "metadata": {},
   "source": [
    "What fraction of alerts are likely generated by stellar sources? (Imagine what this fraction would be if we included also those sources with Galactic latitude |b| < 8 deg)"
   ]
  },
  {
   "cell_type": "code",
   "execution_count": null,
   "metadata": {},
   "outputs": [],
   "source": [
    "len(...)/..."
   ]
  },
  {
   "cell_type": "markdown",
   "metadata": {},
   "source": [
    "Bonus: plot the light curve of the star with most detections among those never brighter than 17 mag in any band."
   ]
  },
  {
   "cell_type": "code",
   "execution_count": null,
   "metadata": {},
   "outputs": [],
   "source": [
    "..."
   ]
  },
  {
   "cell_type": "markdown",
   "metadata": {},
   "source": [
    "## Total duration\n",
    "We are interested in fast transients, but what this means is somewhat ambiguous. However, if we think of electromagnetic counterparts to gravitational waves, we expect them to remain bright (for a given detection limit) for a few days, perhaps weeks but only for exceptionally nearby or bright cases.\n",
    "\n",
    "Bonus quiz: assuming that ZTF has a limitng magnitude of ~20.5 mag, how long would a GW170817-like kilonova be detectable in g and r band? What if it was located at 120 Mpc instead of 41 Mpc?"
   ]
  },
  {
   "cell_type": "code",
   "execution_count": null,
   "metadata": {},
   "outputs": [],
   "source": [
    "# Set a threshold for the duration\n",
    "max_duration = ...\n",
    "crit_maxduration = (... < max_duration)\n",
    "len(df_alerts[crit_maxduration])"
   ]
  },
  {
   "cell_type": "markdown",
   "metadata": {},
   "source": [
    "**Note:** The light curves put together for this notebook contain data points that were acquired even **after** the last alert present in the datafile. Therefore some transients pass the total duration criterion, but their light curve plot will show a long-duration transient. Building a criterion based on the light curves rather than on the alerts would yield an even better selection."
   ]
  },
  {
   "cell_type": "markdown",
   "metadata": {},
   "source": [
    "## Put together the selection criteria\n",
    "How many alerts are left when the criteria for moving objects, stellarity, and duration are put together? How many transients? What is the fraction of sources that were discarded in the process?"
   ]
  },
  {
   "cell_type": "code",
   "execution_count": null,
   "metadata": {},
   "outputs": [],
   "source": [
    "df_alerts_select = df_alerts[crit_nomoving & ... & ... & ...]\n",
    "print(\"Number of alerts left:\", len(df_alerts_select))\n",
    "print(\"Number of transients that pass the cuts:\", ...) # remember objectId\n",
    "# Discarded sources\n",
    "n_tot_sources = len(set(df_alerts[\"objectId\"]))\n",
    "n_select_sources = len(set(df_alerts_select[\"objectId\"]))\n",
    "fraction_discarded = (...)/n_tot_sources\n",
    "print(\"Fraction of discarded sources:\", fraction_discarded)"
   ]
  },
  {
   "cell_type": "markdown",
   "metadata": {},
   "source": [
    "This is very good, but is it good enough? Is this sustainable for daily scanning/vetting by humans? It is doable, but we can do better."
   ]
  },
  {
   "cell_type": "markdown",
   "metadata": {},
   "source": [
    "## Light curve evolution\n",
    "We still have a powerful tool that we can use: the rate at which the luminosity changes! The alerts present in the data set were all generated in one night, so we should move to the light curve data at this point.\n",
    "\n",
    "In Python it is better to stay away from `for` loops, but since we have only a few hundreds of transients left, we can afford to iterate and analyze each light curve individually.\n",
    "\n",
    "Before doing that, we must define a function that determines whether a light curve shall pass or not pass a given criterion on its evolution. To do things properly, we should consider a rising phase (typically faster) and a fading phase (typically slower) and/or fit models to the data (see, e.g., the methods used in the [ZTFReST](https://ui.adsabs.harvard.edu/abs/2021ApJ...918...63A/abstract) framework). We can build a simplified version of this algorithm."
   ]
  },
  {
   "cell_type": "code",
   "execution_count": null,
   "metadata": {},
   "outputs": [],
   "source": [
    "def evaluate_lc(name, thresh=0.3):\n",
    "    \"\"\"\n",
    "    Evaluate if a light curve evolves fast enough\n",
    "    Assume lc_dict to be a global variable already defined.\n",
    "\n",
    "    Parameters\n",
    "    ----------\n",
    "    name str\n",
    "        name (objectId) of the ZTF transient\n",
    "    thresh float\n",
    "        threshold for the evolution rate (mag/day)\n",
    "    \n",
    "    Returns\n",
    "    -------\n",
    "    selected bool\n",
    "        if the transient fades faster than thresh\n",
    "        in at least one band, returns True, otherwise False\n",
    "    \"\"\"\n",
    "    # Initialize the variable to return\n",
    "    selected = False\n",
    "    # Individual light curve\n",
    "    lc = lc_dict[name]\n",
    "    # Iterate on the filters\n",
    "    filters = ... # See the plot_lc function\n",
    "    for f in set(filters):\n",
    "        time = ...\n",
    "        mag = ...\n",
    "        magerr = ...\n",
    "        # Condition for the rise/fade rate\n",
    "        if np.abs(np.max(mag) - np.min(mag))/(time[np.argmax(mag)]-time[np.argmin(mag)]) > thresh:\n",
    "            selected = True\n",
    "            # No need to keep going if selected becomes True\n",
    "            break\n",
    "    \n",
    "    return selected"
   ]
  },
  {
   "cell_type": "markdown",
   "metadata": {},
   "source": [
    "Let's try it out. How many transients have a light curve that evolves faster than 0.5 mag/day?"
   ]
  },
  {
   "cell_type": "code",
   "execution_count": null,
   "metadata": {
    "scrolled": true
   },
   "outputs": [],
   "source": [
    "names_selected = []\n",
    "for name in set(df_alerts_select[\"objectId\"]):\n",
    "    try:\n",
    "        if evaluate_lc(name, ...) is True:\n",
    "            names_selected.append(name)\n",
    "    except KeyError:\n",
    "        print(f\"{name} not present in light curve file, ignore\")\n",
    "print(\"Number of sources to vet:\", len(names_selected))"
   ]
  },
  {
   "cell_type": "code",
   "execution_count": null,
   "metadata": {
    "scrolled": true
   },
   "outputs": [],
   "source": [
    "names_selected"
   ]
  },
  {
   "cell_type": "markdown",
   "metadata": {},
   "source": [
    "Plot the light curves and complete the candidate vetting on [Fritz](https://fritz.science). which one of the selected transients is most likely a genuine extragalactic fast transient?"
   ]
  },
  {
   "cell_type": "code",
   "execution_count": null,
   "metadata": {
    "scrolled": true
   },
   "outputs": [],
   "source": [
    "plot_lc(...)"
   ]
  },
  {
   "cell_type": "code",
   "execution_count": null,
   "metadata": {},
   "outputs": [],
   "source": [
    "plot_lc(...)"
   ]
  },
  {
   "cell_type": "markdown",
   "metadata": {},
   "source": [
    "# Epilogue\n",
    "\n",
    "Epilogue to be read in the `fast_transients_solutions.ipynb` notebook!"
   ]
  },
  {
   "cell_type": "code",
   "execution_count": null,
   "metadata": {},
   "outputs": [],
   "source": []
  }
 ],
 "metadata": {
  "kernelspec": {
   "display_name": "Python 3 (ipykernel)",
   "language": "python",
   "name": "python3"
  },
  "language_info": {
   "codemirror_mode": {
    "name": "ipython",
    "version": 3
   },
   "file_extension": ".py",
   "mimetype": "text/x-python",
   "name": "python",
   "nbconvert_exporter": "python",
   "pygments_lexer": "ipython3",
   "version": "3.9.7"
  }
 },
 "nbformat": 4,
 "nbformat_minor": 4
}
